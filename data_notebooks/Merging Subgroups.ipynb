{
 "cells": [
  {
   "cell_type": "code",
   "execution_count": 1,
   "id": "94419fa5",
   "metadata": {},
   "outputs": [],
   "source": [
    "import pandas as pd"
   ]
  },
  {
   "cell_type": "code",
   "execution_count": null,
   "id": "4c0595f3",
   "metadata": {},
   "outputs": [],
   "source": []
  },
  {
   "cell_type": "code",
   "execution_count": null,
   "id": "ab633714",
   "metadata": {},
   "outputs": [],
   "source": [
    "df1 = pd.read_csv(\"../processed_data/subgroup_1_predictions.csv\", index_col=0)"
   ]
  },
  {
   "cell_type": "code",
   "execution_count": null,
   "id": "cb6ad826",
   "metadata": {},
   "outputs": [],
   "source": [
    "df2 = pd.read_csv(\"processed_data/subgroup_2_predictions.csv\", index_col=0)"
   ]
  },
  {
   "cell_type": "code",
   "execution_count": null,
   "id": "8a3f8004",
   "metadata": {},
   "outputs": [],
   "source": [
    "df3 = pd.read_csv(\"processed_data/subgroup_3_predictions.csv\", index_col=0)"
   ]
  },
  {
   "cell_type": "code",
   "execution_count": null,
   "id": "99fa6c22",
   "metadata": {},
   "outputs": [],
   "source": [
    "df4 = pd.read_csv(\"processed_data/subgroup_4_predictions.csv\", index_col=0)"
   ]
  },
  {
   "cell_type": "code",
   "execution_count": null,
   "id": "202197bf",
   "metadata": {},
   "outputs": [],
   "source": [
    "df5 = pd.read_csv(\"processed_data/subgroup_5_predictions.csv\", index_col=0)"
   ]
  },
  {
   "cell_type": "code",
   "execution_count": null,
   "id": "ea4110ca",
   "metadata": {},
   "outputs": [],
   "source": [
    "df6 = pd.read_csv(\"processed_data/subgroup_6_predictions.csv\", index_col=0)"
   ]
  },
  {
   "cell_type": "code",
   "execution_count": null,
   "id": "6a19a06b",
   "metadata": {},
   "outputs": [],
   "source": [
    "df7 = pd.read_csv(\"processed_data/subgroup_7_predictions.csv\", index_col=0)"
   ]
  },
  {
   "cell_type": "code",
   "execution_count": null,
   "id": "3fc631a8",
   "metadata": {},
   "outputs": [],
   "source": [
    "merged_df = pd.concat([df1, df2, df3, df4, df5, df6, df7])\n",
    "merged_df['charttime'] = pd.to_datetime(merged_df['charttime'])\n",
    "merged_df = merged_df.sort_values(by=['subject_id', 'charttime'])"
   ]
  },
  {
   "cell_type": "code",
   "execution_count": null,
   "id": "e711c47b",
   "metadata": {},
   "outputs": [],
   "source": [
    "merged_df.to_csv('processed_data/merged_data.csv', index=False)"
   ]
  },
  {
   "cell_type": "code",
   "execution_count": null,
   "id": "e0b63581",
   "metadata": {},
   "outputs": [],
   "source": [
    "def find_subject(df, subgroup, risk):\n",
    "    filtered_df = df[(df['subgroup_x'] == subgroup) & (df['predictions'] == risk)]\n",
    "    if filtered_df.empty:\n",
    "        return None\n",
    "    grouped = filtered_df.groupby('subject_id').size()\n",
    "    max_entries_subject_id = grouped.idxmax()\n",
    "    return max_entries_subject_id"
   ]
  },
  {
   "cell_type": "code",
   "execution_count": null,
   "id": "494b6189",
   "metadata": {},
   "outputs": [],
   "source": [
    "columns_for_latest = list(merged_df.columns[:-30])\n",
    "df_latest = merged_df[columns_for_latest]\n",
    "columns_for_sum = ['hadm_id'] + list(merged_df.columns[-30:])\n",
    "df_sum = merged_df[columns_for_sum]"
   ]
  },
  {
   "cell_type": "code",
   "execution_count": null,
   "id": "172abec5",
   "metadata": {},
   "outputs": [],
   "source": [
    "df_sum_agg = df_sum.groupby('hadm_id').sum().reset_index()"
   ]
  },
  {
   "cell_type": "code",
   "execution_count": null,
   "id": "8dfe1439",
   "metadata": {},
   "outputs": [],
   "source": [
    "df_sum_agg.to_csv('processed_data/elixhauser_count.csv', index=False)"
   ]
  },
  {
   "cell_type": "code",
   "execution_count": null,
   "id": "90e1084e",
   "metadata": {},
   "outputs": [],
   "source": [
    "subject_id_list=[]\n",
    "for j in range(3):\n",
    "    for i in range(7):\n",
    "        temp = [i+1, j, find_subject(merged_df, i+1, j)]\n",
    "        subject_id_list.append(temp)"
   ]
  },
  {
   "cell_type": "code",
   "execution_count": null,
   "id": "9b95901a",
   "metadata": {},
   "outputs": [],
   "source": [
    "subject_id_list"
   ]
  },
  {
   "cell_type": "code",
   "execution_count": null,
   "id": "0d81de6a",
   "metadata": {},
   "outputs": [],
   "source": [
    "sorted_data = sorted(subject_id_list, key=lambda x: (x[1], x[2]))\n",
    "sorted_data"
   ]
  },
  {
   "cell_type": "code",
   "execution_count": null,
   "id": "2ee1fc09",
   "metadata": {},
   "outputs": [],
   "source": [
    "subject_id_list=[]\n",
    "for j in range(3):\n",
    "    for i in range(7):\n",
    "        subject_id_list.append(find_subject(merged_df, i+1, j))\n",
    "subject_id_list"
   ]
  },
  {
   "cell_type": "code",
   "execution_count": null,
   "id": "5dfe9f79",
   "metadata": {},
   "outputs": [],
   "source": []
  }
 ],
 "metadata": {
  "kernelspec": {
   "display_name": "Python 3 (ipykernel)",
   "language": "python",
   "name": "python3"
  },
  "language_info": {
   "codemirror_mode": {
    "name": "ipython",
    "version": 3
   },
   "file_extension": ".py",
   "mimetype": "text/x-python",
   "name": "python",
   "nbconvert_exporter": "python",
   "pygments_lexer": "ipython3",
   "version": "3.8.0"
  }
 },
 "nbformat": 4,
 "nbformat_minor": 5
}
