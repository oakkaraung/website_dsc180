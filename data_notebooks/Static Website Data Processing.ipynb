{
 "cells": [
  {
   "cell_type": "code",
   "execution_count": null,
   "id": "c924cadb",
   "metadata": {},
   "outputs": [],
   "source": [
    "import pandas as pd\n",
    "import numpy as np\n",
    "import json"
   ]
  },
  {
   "cell_type": "code",
   "execution_count": null,
   "id": "be164353",
   "metadata": {},
   "outputs": [],
   "source": [
    "df = pd.read_csv(\"../processed_data/merged_data.csv\")"
   ]
  },
  {
   "cell_type": "code",
   "execution_count": null,
   "id": "0cdef6ec",
   "metadata": {},
   "outputs": [],
   "source": [
    "df2 = pd.read_csv(\"../processed_data/subgroup_probabilities.csv\", index_col=0)\n",
    "df2['max_value'] = df2[['prob_sub1', 'prob_sub2', 'prob_sub3', 'prob_sub4', 'prob_sub5', 'prob_sub6', 'prob_sub7']].max(axis=1)*100"
   ]
  },
  {
   "cell_type": "code",
   "execution_count": null,
   "id": "1761d6f3",
   "metadata": {},
   "outputs": [],
   "source": [
    "df = df.merge(df2[['hadm_id', 'max_value']], how='left', on='hadm_id')"
   ]
  },
  {
   "cell_type": "code",
   "execution_count": null,
   "id": "38448a99",
   "metadata": {},
   "outputs": [],
   "source": [
    "def convert_int64(dataframe):\n",
    "    for col in dataframe.columns:\n",
    "        if dataframe[col].dtype == np.int64:\n",
    "            dataframe[col] = dataframe[col].astype(int)\n",
    "    return df\n",
    "df = convert_int64(df)"
   ]
  },
  {
   "cell_type": "markdown",
   "id": "8013f48a",
   "metadata": {},
   "source": [
    "Functions to convert to int and get latest vitals"
   ]
  },
  {
   "cell_type": "code",
   "execution_count": null,
   "id": "81eb0b76",
   "metadata": {},
   "outputs": [],
   "source": [
    "def get_latest_vitals(dataframe):\n",
    "    dataframe['charttime'] = pd.to_datetime(dataframe['charttime'])\n",
    "    dataframe_sorted = dataframe.sort_values(by=['subject_id', 'charttime'])\n",
    "    latest_vitals = dataframe_sorted.groupby('subject_id').last().reset_index()\n",
    "    return latest_vitals\n",
    "\n",
    "latest_vitals_df = get_latest_vitals(df)\n",
    "\n",
    "latest_vitals_df.head()"
   ]
  },
  {
   "cell_type": "markdown",
   "id": "520524d5",
   "metadata": {},
   "source": [
    "Function to convert data to json for website"
   ]
  },
  {
   "cell_type": "code",
   "execution_count": null,
   "id": "e50fabcd",
   "metadata": {},
   "outputs": [],
   "source": [
    "def json_converter(dataframe, patient_id):\n",
    "    data = {\n",
    "        \"name\": \"John Doe\",\n",
    "    }\n",
    "    row = dataframe[dataframe['subject_id']==patient_id]\n",
    "    \n",
    "    elix = row.iloc[:, -31:-1]\n",
    "    one_hot_columns = elix.columns[elix.eq(1).any()].tolist()\n",
    "    one_hot_columns = [' '.join(word.capitalize() for word in item.replace('_', ' ').split()) for item in one_hot_columns]\n",
    "\n",
    "    def custom_serializer(obj):\n",
    "        if isinstance(obj, np.integer):\n",
    "            return int(obj)  # Convert NumPy integers to Python int\n",
    "        elif isinstance(obj, pd.Timestamp):\n",
    "            return obj.isoformat()  # Convert Timestamp to ISO 8601 string\n",
    "        raise TypeError(f\"Object of type {obj.__class__.__name__} is not JSON serializable\")\n",
    "    \n",
    "    data[\"subject_id\"] = row[\"subject_id\"].iloc[0]\n",
    "    data[\"subgroup\"] = row[\"subgroup_x\"].iloc[0]\n",
    "    data[\"latest_blood_pressure\"] = row[\"Combined_Blood_Pressure\"].iloc[0]\n",
    "    data[\"latest_chart_time\"] = row[\"charttime\"].iloc[0]\n",
    "    data[\"latest_temp_F\"] = round(row[\"Final_Temperature_F\"].iloc[0], 2)\n",
    "    data[\"latest_heart_rate\"] = row[\"heart_rate\"].iloc[0]\n",
    "    data[\"latest_respiratory_rate\"] = row[\"RespiratoryRate_combined\"].iloc[0]\n",
    "    data[\"elixhauser\"] = one_hot_columns\n",
    "    data[\"age\"] = row[\"rounded_age\"].iloc[0]\n",
    "    data[\"spo2\"] = row[\"SpO2\"].iloc[0]\n",
    "    data[\"sofa\"] = row[\"sofa\"].iloc[0]\n",
    "    temp1=row[\"max_value\"].iloc[0]\n",
    "    if temp1==100.0:\n",
    "        temp1=99.0\n",
    "    data[\"prob\"] = temp1\n",
    "    data[\"white_blood\"] = row[\"WBC_combined\"].iloc[0]*1000\n",
    "    \n",
    "    file_name = \"processed_data/id\" + str(patient_id) + \".json\"\n",
    "\n",
    "    with open(file_name, 'w') as json_file:\n",
    "        json.dump(data, json_file, indent=4, default=custom_serializer)"
   ]
  },
  {
   "cell_type": "markdown",
   "id": "a8dbe5c5",
   "metadata": {},
   "source": [
    "Combining with wbcc"
   ]
  },
  {
   "cell_type": "code",
   "execution_count": null,
   "id": "1bd09ba0",
   "metadata": {},
   "outputs": [],
   "source": [
    "df3 = pd.read_csv(\"processed_data/white_bloodcells_with_sofa.csv\", index_col=0)\n",
    "df3.head()"
   ]
  },
  {
   "cell_type": "code",
   "execution_count": null,
   "id": "0bd4226f",
   "metadata": {},
   "outputs": [],
   "source": [
    "white = get_latest_vitals(df3)"
   ]
  },
  {
   "cell_type": "code",
   "execution_count": null,
   "id": "53a2f183",
   "metadata": {},
   "outputs": [],
   "source": [
    "final_df = pd.merge(latest_vitals_df, white[['subject_id', 'WBC_combined']], on='subject_id', how='left')"
   ]
  },
  {
   "cell_type": "code",
   "execution_count": null,
   "id": "145b8e43",
   "metadata": {},
   "outputs": [],
   "source": [
    "json_converter(final_df, 453)"
   ]
  },
  {
   "cell_type": "markdown",
   "id": "d62c9841",
   "metadata": {},
   "source": [
    "All patient ids sorted"
   ]
  },
  {
   "cell_type": "code",
   "execution_count": null,
   "id": "131d5446",
   "metadata": {},
   "outputs": [],
   "source": [
    "numbers = [\n",
    "    26494, 6702, 11167, 3868, 8566, 6659, 17797, 1113,\n",
    "    12613, 25699, 17807, 7354, 11952, 17795, 22202, 3011,\n",
    "    6873, 453, 16847, 145, 9467\n",
    "]\n",
    "\n",
    "# Sorting the list\n",
    "sorted_numbers = sorted(numbers)\n",
    "\n",
    "sorted_numbers"
   ]
  },
  {
   "cell_type": "code",
   "execution_count": null,
   "id": "d6a8587a",
   "metadata": {},
   "outputs": [],
   "source": []
  }
 ],
 "metadata": {
  "kernelspec": {
   "display_name": "Python 3 (ipykernel)",
   "language": "python",
   "name": "python3"
  },
  "language_info": {
   "codemirror_mode": {
    "name": "ipython",
    "version": 3
   },
   "file_extension": ".py",
   "mimetype": "text/x-python",
   "name": "python",
   "nbconvert_exporter": "python",
   "pygments_lexer": "ipython3",
   "version": "3.8.0"
  }
 },
 "nbformat": 4,
 "nbformat_minor": 5
}
